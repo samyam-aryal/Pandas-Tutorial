{
 "cells": [
  {
   "cell_type": "markdown",
   "id": "77c2914b",
   "metadata": {
    "papermill": {
     "duration": 0.006062,
     "end_time": "2023-08-07T07:04:22.667897",
     "exception": false,
     "start_time": "2023-08-07T07:04:22.661835",
     "status": "completed"
    },
    "tags": []
   },
   "source": [
    "**This notebook is an exercise in the [Pandas](https://www.kaggle.com/learn/pandas) course.  You can reference the tutorial at [this link](https://www.kaggle.com/residentmario/data-types-and-missing-values).**\n",
    "\n",
    "---\n"
   ]
  },
  {
   "cell_type": "markdown",
   "id": "75c4cad9",
   "metadata": {
    "papermill": {
     "duration": 0.004263,
     "end_time": "2023-08-07T07:04:22.676957",
     "exception": false,
     "start_time": "2023-08-07T07:04:22.672694",
     "status": "completed"
    },
    "tags": []
   },
   "source": [
    "# Introduction\n",
    "\n",
    "Run the following cell to load your data and some utility functions."
   ]
  },
  {
   "cell_type": "code",
   "execution_count": 1,
   "id": "7debf8bd",
   "metadata": {
    "execution": {
     "iopub.execute_input": "2023-08-07T07:04:22.690272Z",
     "iopub.status.busy": "2023-08-07T07:04:22.689448Z",
     "iopub.status.idle": "2023-08-07T07:04:25.196986Z",
     "shell.execute_reply": "2023-08-07T07:04:25.195191Z"
    },
    "papermill": {
     "duration": 2.517942,
     "end_time": "2023-08-07T07:04:25.199341",
     "exception": false,
     "start_time": "2023-08-07T07:04:22.681399",
     "status": "completed"
    },
    "tags": []
   },
   "outputs": [
    {
     "name": "stdout",
     "output_type": "stream",
     "text": [
      "Setup complete.\n"
     ]
    }
   ],
   "source": [
    "import pandas as pd\n",
    "\n",
    "reviews = pd.read_csv(\"../input/wine-reviews/winemag-data-130k-v2.csv\", index_col=0)\n",
    "\n",
    "from learntools.core import binder; binder.bind(globals())\n",
    "from learntools.pandas.data_types_and_missing_data import *\n",
    "print(\"Setup complete.\")"
   ]
  },
  {
   "cell_type": "markdown",
   "id": "bf87ea67",
   "metadata": {
    "papermill": {
     "duration": 0.003571,
     "end_time": "2023-08-07T07:04:25.206888",
     "exception": false,
     "start_time": "2023-08-07T07:04:25.203317",
     "status": "completed"
    },
    "tags": []
   },
   "source": [
    "# Exercises"
   ]
  },
  {
   "cell_type": "markdown",
   "id": "2570c217",
   "metadata": {
    "papermill": {
     "duration": 0.005066,
     "end_time": "2023-08-07T07:04:25.215778",
     "exception": false,
     "start_time": "2023-08-07T07:04:25.210712",
     "status": "completed"
    },
    "tags": []
   },
   "source": [
    "## 1. \n",
    "What is the data type of the `points` column in the dataset?"
   ]
  },
  {
   "cell_type": "code",
   "execution_count": 2,
   "id": "177c3476",
   "metadata": {
    "execution": {
     "iopub.execute_input": "2023-08-07T07:04:25.224913Z",
     "iopub.status.busy": "2023-08-07T07:04:25.224549Z",
     "iopub.status.idle": "2023-08-07T07:04:25.233737Z",
     "shell.execute_reply": "2023-08-07T07:04:25.232774Z"
    },
    "papermill": {
     "duration": 0.016579,
     "end_time": "2023-08-07T07:04:25.236100",
     "exception": false,
     "start_time": "2023-08-07T07:04:25.219521",
     "status": "completed"
    },
    "tags": []
   },
   "outputs": [
    {
     "data": {
      "application/javascript": [
       "parent.postMessage({\"jupyterEvent\": \"custom.exercise_interaction\", \"data\": {\"outcomeType\": 1, \"valueTowardsCompletion\": 0.25, \"interactionType\": 1, \"questionType\": 1, \"questionId\": \"1_PointsDtype\", \"learnToolsVersion\": \"0.3.4\", \"failureMessage\": \"\", \"exceptionClass\": \"\", \"trace\": \"\"}}, \"*\")"
      ],
      "text/plain": [
       "<IPython.core.display.Javascript object>"
      ]
     },
     "metadata": {},
     "output_type": "display_data"
    },
    {
     "data": {
      "text/markdown": [
       "<span style=\"color:#33cc33\">Correct</span>"
      ],
      "text/plain": [
       "Correct"
      ]
     },
     "metadata": {},
     "output_type": "display_data"
    }
   ],
   "source": [
    "# Your code here\n",
    "dtype = reviews.points.dtype\n",
    "\n",
    "# Check your answer\n",
    "q1.check()"
   ]
  },
  {
   "cell_type": "code",
   "execution_count": 3,
   "id": "69e7533e",
   "metadata": {
    "execution": {
     "iopub.execute_input": "2023-08-07T07:04:25.246548Z",
     "iopub.status.busy": "2023-08-07T07:04:25.246193Z",
     "iopub.status.idle": "2023-08-07T07:04:25.250407Z",
     "shell.execute_reply": "2023-08-07T07:04:25.249036Z"
    },
    "papermill": {
     "duration": 0.011686,
     "end_time": "2023-08-07T07:04:25.252257",
     "exception": false,
     "start_time": "2023-08-07T07:04:25.240571",
     "status": "completed"
    },
    "tags": []
   },
   "outputs": [],
   "source": [
    "#q1.hint()\n",
    "#q1.solution()"
   ]
  },
  {
   "cell_type": "markdown",
   "id": "4e83db38",
   "metadata": {
    "papermill": {
     "duration": 0.003857,
     "end_time": "2023-08-07T07:04:25.260431",
     "exception": false,
     "start_time": "2023-08-07T07:04:25.256574",
     "status": "completed"
    },
    "tags": []
   },
   "source": [
    "## 2. \n",
    "Create a Series from entries in the `points` column, but convert the entries to strings. Hint: strings are `str` in native Python."
   ]
  },
  {
   "cell_type": "code",
   "execution_count": 4,
   "id": "73a8d640",
   "metadata": {
    "execution": {
     "iopub.execute_input": "2023-08-07T07:04:25.270195Z",
     "iopub.status.busy": "2023-08-07T07:04:25.269803Z",
     "iopub.status.idle": "2023-08-07T07:04:25.318171Z",
     "shell.execute_reply": "2023-08-07T07:04:25.317060Z"
    },
    "papermill": {
     "duration": 0.055618,
     "end_time": "2023-08-07T07:04:25.320216",
     "exception": false,
     "start_time": "2023-08-07T07:04:25.264598",
     "status": "completed"
    },
    "tags": []
   },
   "outputs": [
    {
     "data": {
      "application/javascript": [
       "parent.postMessage({\"jupyterEvent\": \"custom.exercise_interaction\", \"data\": {\"outcomeType\": 1, \"valueTowardsCompletion\": 0.25, \"interactionType\": 1, \"questionType\": 1, \"questionId\": \"2_StrPoints\", \"learnToolsVersion\": \"0.3.4\", \"failureMessage\": \"\", \"exceptionClass\": \"\", \"trace\": \"\"}}, \"*\")"
      ],
      "text/plain": [
       "<IPython.core.display.Javascript object>"
      ]
     },
     "metadata": {},
     "output_type": "display_data"
    },
    {
     "data": {
      "text/markdown": [
       "<span style=\"color:#33cc33\">Correct</span>"
      ],
      "text/plain": [
       "Correct"
      ]
     },
     "metadata": {},
     "output_type": "display_data"
    }
   ],
   "source": [
    "point_strings = reviews.points.astype('str')\n",
    "\n",
    "# Check your answer\n",
    "q2.check()"
   ]
  },
  {
   "cell_type": "code",
   "execution_count": 5,
   "id": "b88d8248",
   "metadata": {
    "execution": {
     "iopub.execute_input": "2023-08-07T07:04:25.330873Z",
     "iopub.status.busy": "2023-08-07T07:04:25.330533Z",
     "iopub.status.idle": "2023-08-07T07:04:25.336286Z",
     "shell.execute_reply": "2023-08-07T07:04:25.334330Z"
    },
    "papermill": {
     "duration": 0.014379,
     "end_time": "2023-08-07T07:04:25.339279",
     "exception": false,
     "start_time": "2023-08-07T07:04:25.324900",
     "status": "completed"
    },
    "tags": []
   },
   "outputs": [],
   "source": [
    "#q2.hint()\n",
    "#q2.solution()"
   ]
  },
  {
   "cell_type": "markdown",
   "id": "ed503f86",
   "metadata": {
    "papermill": {
     "duration": 0.00411,
     "end_time": "2023-08-07T07:04:25.349606",
     "exception": false,
     "start_time": "2023-08-07T07:04:25.345496",
     "status": "completed"
    },
    "tags": []
   },
   "source": [
    "## 3.\n",
    "Sometimes the price column is null. How many reviews in the dataset are missing a price?"
   ]
  },
  {
   "cell_type": "code",
   "execution_count": 6,
   "id": "93197b41",
   "metadata": {
    "execution": {
     "iopub.execute_input": "2023-08-07T07:04:25.360025Z",
     "iopub.status.busy": "2023-08-07T07:04:25.359660Z",
     "iopub.status.idle": "2023-08-07T07:04:25.370364Z",
     "shell.execute_reply": "2023-08-07T07:04:25.369226Z"
    },
    "papermill": {
     "duration": 0.018359,
     "end_time": "2023-08-07T07:04:25.372400",
     "exception": false,
     "start_time": "2023-08-07T07:04:25.354041",
     "status": "completed"
    },
    "tags": []
   },
   "outputs": [
    {
     "data": {
      "application/javascript": [
       "parent.postMessage({\"jupyterEvent\": \"custom.exercise_interaction\", \"data\": {\"outcomeType\": 1, \"valueTowardsCompletion\": 0.25, \"interactionType\": 1, \"questionType\": 1, \"questionId\": \"3_CountMissingPrices\", \"learnToolsVersion\": \"0.3.4\", \"failureMessage\": \"\", \"exceptionClass\": \"\", \"trace\": \"\"}}, \"*\")"
      ],
      "text/plain": [
       "<IPython.core.display.Javascript object>"
      ]
     },
     "metadata": {},
     "output_type": "display_data"
    },
    {
     "data": {
      "text/markdown": [
       "<span style=\"color:#33cc33\">Correct</span>"
      ],
      "text/plain": [
       "Correct"
      ]
     },
     "metadata": {},
     "output_type": "display_data"
    }
   ],
   "source": [
    "n_missing_prices = reviews.price.isnull().sum()\n",
    "\n",
    "# Check your answer\n",
    "q3.check()"
   ]
  },
  {
   "cell_type": "code",
   "execution_count": 7,
   "id": "972f7f93",
   "metadata": {
    "execution": {
     "iopub.execute_input": "2023-08-07T07:04:25.383697Z",
     "iopub.status.busy": "2023-08-07T07:04:25.383310Z",
     "iopub.status.idle": "2023-08-07T07:04:25.387909Z",
     "shell.execute_reply": "2023-08-07T07:04:25.386729Z"
    },
    "papermill": {
     "duration": 0.013279,
     "end_time": "2023-08-07T07:04:25.390587",
     "exception": false,
     "start_time": "2023-08-07T07:04:25.377308",
     "status": "completed"
    },
    "tags": []
   },
   "outputs": [],
   "source": [
    "#q3.hint()\n",
    "#q3.solution()"
   ]
  },
  {
   "cell_type": "markdown",
   "id": "4ec0d996",
   "metadata": {
    "papermill": {
     "duration": 0.004357,
     "end_time": "2023-08-07T07:04:25.399799",
     "exception": false,
     "start_time": "2023-08-07T07:04:25.395442",
     "status": "completed"
    },
    "tags": []
   },
   "source": [
    "## 4.\n",
    "What are the most common wine-producing regions? Create a Series counting the number of times each value occurs in the `region_1` field. This field is often missing data, so replace missing values with `Unknown`. Sort in descending order.  Your output should look something like this:\n",
    "\n",
    "```\n",
    "Unknown                    21247\n",
    "Napa Valley                 4480\n",
    "                           ...  \n",
    "Bardolino Superiore            1\n",
    "Primitivo del Tarantino        1\n",
    "Name: region_1, Length: 1230, dtype: int64\n",
    "```"
   ]
  },
  {
   "cell_type": "code",
   "execution_count": 8,
   "id": "fc85927d",
   "metadata": {
    "execution": {
     "iopub.execute_input": "2023-08-07T07:04:25.410760Z",
     "iopub.status.busy": "2023-08-07T07:04:25.410371Z",
     "iopub.status.idle": "2023-08-07T07:04:25.690474Z",
     "shell.execute_reply": "2023-08-07T07:04:25.689179Z"
    },
    "papermill": {
     "duration": 0.288117,
     "end_time": "2023-08-07T07:04:25.692495",
     "exception": false,
     "start_time": "2023-08-07T07:04:25.404378",
     "status": "completed"
    },
    "tags": []
   },
   "outputs": [
    {
     "data": {
      "application/javascript": [
       "parent.postMessage({\"jupyterEvent\": \"custom.exercise_interaction\", \"data\": {\"outcomeType\": 1, \"valueTowardsCompletion\": 0.25, \"interactionType\": 1, \"questionType\": 2, \"questionId\": \"4_ReviewsPerRegion\", \"learnToolsVersion\": \"0.3.4\", \"failureMessage\": \"\", \"exceptionClass\": \"\", \"trace\": \"\"}}, \"*\")"
      ],
      "text/plain": [
       "<IPython.core.display.Javascript object>"
      ]
     },
     "metadata": {},
     "output_type": "display_data"
    },
    {
     "data": {
      "text/markdown": [
       "<span style=\"color:#33cc33\">Correct</span>"
      ],
      "text/plain": [
       "Correct"
      ]
     },
     "metadata": {},
     "output_type": "display_data"
    }
   ],
   "source": [
    "reviews.fillna('Unknown', inplace=True)\n",
    "reviews_per_region = pd.Series(reviews['region_1'].value_counts().sort_values(ascending=False))\n",
    "\n",
    "# Check your answer\n",
    "q4.check()"
   ]
  },
  {
   "cell_type": "code",
   "execution_count": 9,
   "id": "f61a7190",
   "metadata": {
    "execution": {
     "iopub.execute_input": "2023-08-07T07:04:25.703403Z",
     "iopub.status.busy": "2023-08-07T07:04:25.702990Z",
     "iopub.status.idle": "2023-08-07T07:04:25.711052Z",
     "shell.execute_reply": "2023-08-07T07:04:25.710189Z"
    },
    "papermill": {
     "duration": 0.015786,
     "end_time": "2023-08-07T07:04:25.713046",
     "exception": false,
     "start_time": "2023-08-07T07:04:25.697260",
     "status": "completed"
    },
    "tags": []
   },
   "outputs": [
    {
     "data": {
      "text/plain": [
       "Unknown                 21247\n",
       "Napa Valley              4480\n",
       "Columbia Valley (WA)     4124\n",
       "Russian River Valley     3091\n",
       "California               2629\n",
       "                        ...  \n",
       "Offida Rosso                1\n",
       "Corton Perrières            1\n",
       "Isle St. George             1\n",
       "Geelong                     1\n",
       "Paestum                     1\n",
       "Name: region_1, Length: 1230, dtype: int64"
      ]
     },
     "execution_count": 9,
     "metadata": {},
     "output_type": "execute_result"
    }
   ],
   "source": [
    "reviews_per_region"
   ]
  },
  {
   "cell_type": "code",
   "execution_count": 10,
   "id": "fc76b5d8",
   "metadata": {
    "execution": {
     "iopub.execute_input": "2023-08-07T07:04:25.726091Z",
     "iopub.status.busy": "2023-08-07T07:04:25.725747Z",
     "iopub.status.idle": "2023-08-07T07:04:25.731671Z",
     "shell.execute_reply": "2023-08-07T07:04:25.730766Z"
    },
    "papermill": {
     "duration": 0.014925,
     "end_time": "2023-08-07T07:04:25.733582",
     "exception": false,
     "start_time": "2023-08-07T07:04:25.718657",
     "status": "completed"
    },
    "tags": []
   },
   "outputs": [],
   "source": [
    "#q4.hint()\n",
    "#q4.solution()"
   ]
  },
  {
   "cell_type": "markdown",
   "id": "11eebafc",
   "metadata": {
    "papermill": {
     "duration": 0.00457,
     "end_time": "2023-08-07T07:04:25.743299",
     "exception": false,
     "start_time": "2023-08-07T07:04:25.738729",
     "status": "completed"
    },
    "tags": []
   },
   "source": [
    "# Keep going\n",
    "\n",
    "Move on to **[renaming and combining](https://www.kaggle.com/residentmario/renaming-and-combining)**."
   ]
  },
  {
   "cell_type": "markdown",
   "id": "1913dca9",
   "metadata": {
    "papermill": {
     "duration": 0.00446,
     "end_time": "2023-08-07T07:04:25.752545",
     "exception": false,
     "start_time": "2023-08-07T07:04:25.748085",
     "status": "completed"
    },
    "tags": []
   },
   "source": [
    "---\n",
    "\n",
    "\n",
    "\n",
    "\n",
    "*Have questions or comments? Visit the [course discussion forum](https://www.kaggle.com/learn/pandas/discussion) to chat with other learners.*"
   ]
  }
 ],
 "metadata": {
  "kernelspec": {
   "display_name": "Python 3",
   "language": "python",
   "name": "python3"
  },
  "language_info": {
   "codemirror_mode": {
    "name": "ipython",
    "version": 3
   },
   "file_extension": ".py",
   "mimetype": "text/x-python",
   "name": "python",
   "nbconvert_exporter": "python",
   "pygments_lexer": "ipython3",
   "version": "3.10.12"
  },
  "papermill": {
   "default_parameters": {},
   "duration": 13.001194,
   "end_time": "2023-08-07T07:04:26.680438",
   "environment_variables": {},
   "exception": null,
   "input_path": "__notebook__.ipynb",
   "output_path": "__notebook__.ipynb",
   "parameters": {},
   "start_time": "2023-08-07T07:04:13.679244",
   "version": "2.4.0"
  }
 },
 "nbformat": 4,
 "nbformat_minor": 5
}
