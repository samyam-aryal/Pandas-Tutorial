{
 "cells": [
  {
   "cell_type": "markdown",
   "id": "da15b264",
   "metadata": {
    "papermill": {
     "duration": 0.005279,
     "end_time": "2023-08-07T06:24:49.099281",
     "exception": false,
     "start_time": "2023-08-07T06:24:49.094002",
     "status": "completed"
    },
    "tags": []
   },
   "source": [
    "**This notebook is an exercise in the [Pandas](https://www.kaggle.com/learn/pandas) course.  You can reference the tutorial at [this link](https://www.kaggle.com/residentmario/grouping-and-sorting).**\n",
    "\n",
    "---\n"
   ]
  },
  {
   "cell_type": "markdown",
   "id": "80d4991b",
   "metadata": {
    "papermill": {
     "duration": 0.00474,
     "end_time": "2023-08-07T06:24:49.108724",
     "exception": false,
     "start_time": "2023-08-07T06:24:49.103984",
     "status": "completed"
    },
    "tags": []
   },
   "source": [
    "# Introduction\n",
    "\n",
    "In these exercises we'll apply groupwise analysis to our dataset.\n",
    "\n",
    "Run the code cell below to load the data before running the exercises."
   ]
  },
  {
   "cell_type": "code",
   "execution_count": 1,
   "id": "f7e0562a",
   "metadata": {
    "execution": {
     "iopub.execute_input": "2023-08-07T06:24:49.119546Z",
     "iopub.status.busy": "2023-08-07T06:24:49.119198Z",
     "iopub.status.idle": "2023-08-07T06:24:51.597021Z",
     "shell.execute_reply": "2023-08-07T06:24:51.596282Z"
    },
    "papermill": {
     "duration": 2.485604,
     "end_time": "2023-08-07T06:24:51.598875",
     "exception": false,
     "start_time": "2023-08-07T06:24:49.113271",
     "status": "completed"
    },
    "tags": []
   },
   "outputs": [
    {
     "name": "stdout",
     "output_type": "stream",
     "text": [
      "Setup complete.\n"
     ]
    }
   ],
   "source": [
    "import pandas as pd\n",
    "\n",
    "reviews = pd.read_csv(\"../input/wine-reviews/winemag-data-130k-v2.csv\", index_col=0)\n",
    "#pd.set_option(\"display.max_rows\", 5)\n",
    "\n",
    "from learntools.core import binder; binder.bind(globals())\n",
    "from learntools.pandas.grouping_and_sorting import *\n",
    "print(\"Setup complete.\")"
   ]
  },
  {
   "cell_type": "markdown",
   "id": "60723460",
   "metadata": {
    "papermill": {
     "duration": 0.004866,
     "end_time": "2023-08-07T06:24:51.609308",
     "exception": false,
     "start_time": "2023-08-07T06:24:51.604442",
     "status": "completed"
    },
    "tags": []
   },
   "source": [
    "# Exercises"
   ]
  },
  {
   "cell_type": "markdown",
   "id": "56752587",
   "metadata": {
    "papermill": {
     "duration": 0.004718,
     "end_time": "2023-08-07T06:24:51.618910",
     "exception": false,
     "start_time": "2023-08-07T06:24:51.614192",
     "status": "completed"
    },
    "tags": []
   },
   "source": [
    "## 1.\n",
    "Who are the most common wine reviewers in the dataset? Create a `Series` whose index is the `taster_twitter_handle` category from the dataset, and whose values count how many reviews each person wrote."
   ]
  },
  {
   "cell_type": "code",
   "execution_count": 2,
   "id": "e98ec54e",
   "metadata": {
    "execution": {
     "iopub.execute_input": "2023-08-07T06:24:51.630523Z",
     "iopub.status.busy": "2023-08-07T06:24:51.629897Z",
     "iopub.status.idle": "2023-08-07T06:24:51.652558Z",
     "shell.execute_reply": "2023-08-07T06:24:51.651672Z"
    },
    "papermill": {
     "duration": 0.031295,
     "end_time": "2023-08-07T06:24:51.655040",
     "exception": false,
     "start_time": "2023-08-07T06:24:51.623745",
     "status": "completed"
    },
    "tags": []
   },
   "outputs": [
    {
     "data": {
      "application/javascript": [
       "parent.postMessage({\"jupyterEvent\": \"custom.exercise_interaction\", \"data\": {\"outcomeType\": 1, \"valueTowardsCompletion\": 0.16666666666666666, \"interactionType\": 1, \"questionType\": 1, \"questionId\": \"1_ReviewsWritten\", \"learnToolsVersion\": \"0.3.4\", \"failureMessage\": \"\", \"exceptionClass\": \"\", \"trace\": \"\"}}, \"*\")"
      ],
      "text/plain": [
       "<IPython.core.display.Javascript object>"
      ]
     },
     "metadata": {},
     "output_type": "display_data"
    },
    {
     "data": {
      "text/markdown": [
       "<span style=\"color:#33cc33\">Correct:</span> \n",
       "\n",
       "\n",
       "```python\n",
       "reviews_written = reviews.groupby('taster_twitter_handle').size()\n",
       "```\n",
       "or\n",
       "```python\n",
       "reviews_written = reviews.groupby('taster_twitter_handle').taster_twitter_handle.count()\n",
       "```\n"
      ],
      "text/plain": [
       "Correct: \n",
       "\n",
       "\n",
       "```python\n",
       "reviews_written = reviews.groupby('taster_twitter_handle').size()\n",
       "```\n",
       "or\n",
       "```python\n",
       "reviews_written = reviews.groupby('taster_twitter_handle').taster_twitter_handle.count()\n",
       "```"
      ]
     },
     "metadata": {},
     "output_type": "display_data"
    }
   ],
   "source": [
    "# Your code here\n",
    "reviews_written = pd.Series(reviews.groupby('taster_twitter_handle')['taster_twitter_handle'].count())\n",
    "\n",
    "# Check your answer\n",
    "q1.check()"
   ]
  },
  {
   "cell_type": "code",
   "execution_count": 3,
   "id": "a719f01c",
   "metadata": {
    "execution": {
     "iopub.execute_input": "2023-08-07T06:24:51.667913Z",
     "iopub.status.busy": "2023-08-07T06:24:51.667595Z",
     "iopub.status.idle": "2023-08-07T06:24:51.670805Z",
     "shell.execute_reply": "2023-08-07T06:24:51.670142Z"
    },
    "papermill": {
     "duration": 0.011744,
     "end_time": "2023-08-07T06:24:51.672546",
     "exception": false,
     "start_time": "2023-08-07T06:24:51.660802",
     "status": "completed"
    },
    "tags": []
   },
   "outputs": [],
   "source": [
    "#q1.hint()\n",
    "#q1.solution()"
   ]
  },
  {
   "cell_type": "markdown",
   "id": "c73622db",
   "metadata": {
    "papermill": {
     "duration": 0.006342,
     "end_time": "2023-08-07T06:24:51.684407",
     "exception": false,
     "start_time": "2023-08-07T06:24:51.678065",
     "status": "completed"
    },
    "tags": []
   },
   "source": [
    "## 2.\n",
    "What is the best wine I can buy for a given amount of money? Create a `Series` whose index is wine prices and whose values is the maximum number of points a wine costing that much was given in a review. Sort the values by price, ascending (so that `4.0` dollars is at the top and `3300.0` dollars is at the bottom)."
   ]
  },
  {
   "cell_type": "code",
   "execution_count": 4,
   "id": "4a06ac28",
   "metadata": {
    "execution": {
     "iopub.execute_input": "2023-08-07T06:24:51.696785Z",
     "iopub.status.busy": "2023-08-07T06:24:51.696299Z",
     "iopub.status.idle": "2023-08-07T06:24:51.715966Z",
     "shell.execute_reply": "2023-08-07T06:24:51.714902Z"
    },
    "papermill": {
     "duration": 0.028121,
     "end_time": "2023-08-07T06:24:51.717798",
     "exception": false,
     "start_time": "2023-08-07T06:24:51.689677",
     "status": "completed"
    },
    "tags": []
   },
   "outputs": [
    {
     "data": {
      "text/html": [
       "<div>\n",
       "<style scoped>\n",
       "    .dataframe tbody tr th:only-of-type {\n",
       "        vertical-align: middle;\n",
       "    }\n",
       "\n",
       "    .dataframe tbody tr th {\n",
       "        vertical-align: top;\n",
       "    }\n",
       "\n",
       "    .dataframe thead th {\n",
       "        text-align: right;\n",
       "    }\n",
       "</style>\n",
       "<table border=\"1\" class=\"dataframe\">\n",
       "  <thead>\n",
       "    <tr style=\"text-align: right;\">\n",
       "      <th></th>\n",
       "      <th>country</th>\n",
       "      <th>description</th>\n",
       "      <th>designation</th>\n",
       "      <th>points</th>\n",
       "      <th>price</th>\n",
       "      <th>province</th>\n",
       "      <th>region_1</th>\n",
       "      <th>region_2</th>\n",
       "      <th>taster_name</th>\n",
       "      <th>taster_twitter_handle</th>\n",
       "      <th>title</th>\n",
       "      <th>variety</th>\n",
       "      <th>winery</th>\n",
       "    </tr>\n",
       "  </thead>\n",
       "  <tbody>\n",
       "    <tr>\n",
       "      <th>0</th>\n",
       "      <td>Italy</td>\n",
       "      <td>Aromas include tropical fruit, broom, brimston...</td>\n",
       "      <td>Vulkà Bianco</td>\n",
       "      <td>87</td>\n",
       "      <td>NaN</td>\n",
       "      <td>Sicily &amp; Sardinia</td>\n",
       "      <td>Etna</td>\n",
       "      <td>NaN</td>\n",
       "      <td>Kerin O’Keefe</td>\n",
       "      <td>@kerinokeefe</td>\n",
       "      <td>Nicosia 2013 Vulkà Bianco  (Etna)</td>\n",
       "      <td>White Blend</td>\n",
       "      <td>Nicosia</td>\n",
       "    </tr>\n",
       "    <tr>\n",
       "      <th>1</th>\n",
       "      <td>Portugal</td>\n",
       "      <td>This is ripe and fruity, a wine that is smooth...</td>\n",
       "      <td>Avidagos</td>\n",
       "      <td>87</td>\n",
       "      <td>15.0</td>\n",
       "      <td>Douro</td>\n",
       "      <td>NaN</td>\n",
       "      <td>NaN</td>\n",
       "      <td>Roger Voss</td>\n",
       "      <td>@vossroger</td>\n",
       "      <td>Quinta dos Avidagos 2011 Avidagos Red (Douro)</td>\n",
       "      <td>Portuguese Red</td>\n",
       "      <td>Quinta dos Avidagos</td>\n",
       "    </tr>\n",
       "    <tr>\n",
       "      <th>2</th>\n",
       "      <td>US</td>\n",
       "      <td>Tart and snappy, the flavors of lime flesh and...</td>\n",
       "      <td>NaN</td>\n",
       "      <td>87</td>\n",
       "      <td>14.0</td>\n",
       "      <td>Oregon</td>\n",
       "      <td>Willamette Valley</td>\n",
       "      <td>Willamette Valley</td>\n",
       "      <td>Paul Gregutt</td>\n",
       "      <td>@paulgwine</td>\n",
       "      <td>Rainstorm 2013 Pinot Gris (Willamette Valley)</td>\n",
       "      <td>Pinot Gris</td>\n",
       "      <td>Rainstorm</td>\n",
       "    </tr>\n",
       "    <tr>\n",
       "      <th>3</th>\n",
       "      <td>US</td>\n",
       "      <td>Pineapple rind, lemon pith and orange blossom ...</td>\n",
       "      <td>Reserve Late Harvest</td>\n",
       "      <td>87</td>\n",
       "      <td>13.0</td>\n",
       "      <td>Michigan</td>\n",
       "      <td>Lake Michigan Shore</td>\n",
       "      <td>NaN</td>\n",
       "      <td>Alexander Peartree</td>\n",
       "      <td>NaN</td>\n",
       "      <td>St. Julian 2013 Reserve Late Harvest Riesling ...</td>\n",
       "      <td>Riesling</td>\n",
       "      <td>St. Julian</td>\n",
       "    </tr>\n",
       "    <tr>\n",
       "      <th>4</th>\n",
       "      <td>US</td>\n",
       "      <td>Much like the regular bottling from 2012, this...</td>\n",
       "      <td>Vintner's Reserve Wild Child Block</td>\n",
       "      <td>87</td>\n",
       "      <td>65.0</td>\n",
       "      <td>Oregon</td>\n",
       "      <td>Willamette Valley</td>\n",
       "      <td>Willamette Valley</td>\n",
       "      <td>Paul Gregutt</td>\n",
       "      <td>@paulgwine</td>\n",
       "      <td>Sweet Cheeks 2012 Vintner's Reserve Wild Child...</td>\n",
       "      <td>Pinot Noir</td>\n",
       "      <td>Sweet Cheeks</td>\n",
       "    </tr>\n",
       "  </tbody>\n",
       "</table>\n",
       "</div>"
      ],
      "text/plain": [
       "    country                                        description  \\\n",
       "0     Italy  Aromas include tropical fruit, broom, brimston...   \n",
       "1  Portugal  This is ripe and fruity, a wine that is smooth...   \n",
       "2        US  Tart and snappy, the flavors of lime flesh and...   \n",
       "3        US  Pineapple rind, lemon pith and orange blossom ...   \n",
       "4        US  Much like the regular bottling from 2012, this...   \n",
       "\n",
       "                          designation  points  price           province  \\\n",
       "0                        Vulkà Bianco      87    NaN  Sicily & Sardinia   \n",
       "1                            Avidagos      87   15.0              Douro   \n",
       "2                                 NaN      87   14.0             Oregon   \n",
       "3                Reserve Late Harvest      87   13.0           Michigan   \n",
       "4  Vintner's Reserve Wild Child Block      87   65.0             Oregon   \n",
       "\n",
       "              region_1           region_2         taster_name  \\\n",
       "0                 Etna                NaN       Kerin O’Keefe   \n",
       "1                  NaN                NaN          Roger Voss   \n",
       "2    Willamette Valley  Willamette Valley        Paul Gregutt   \n",
       "3  Lake Michigan Shore                NaN  Alexander Peartree   \n",
       "4    Willamette Valley  Willamette Valley        Paul Gregutt   \n",
       "\n",
       "  taster_twitter_handle                                              title  \\\n",
       "0          @kerinokeefe                  Nicosia 2013 Vulkà Bianco  (Etna)   \n",
       "1            @vossroger      Quinta dos Avidagos 2011 Avidagos Red (Douro)   \n",
       "2           @paulgwine       Rainstorm 2013 Pinot Gris (Willamette Valley)   \n",
       "3                   NaN  St. Julian 2013 Reserve Late Harvest Riesling ...   \n",
       "4           @paulgwine   Sweet Cheeks 2012 Vintner's Reserve Wild Child...   \n",
       "\n",
       "          variety               winery  \n",
       "0     White Blend              Nicosia  \n",
       "1  Portuguese Red  Quinta dos Avidagos  \n",
       "2      Pinot Gris            Rainstorm  \n",
       "3        Riesling           St. Julian  \n",
       "4      Pinot Noir         Sweet Cheeks  "
      ]
     },
     "execution_count": 4,
     "metadata": {},
     "output_type": "execute_result"
    }
   ],
   "source": [
    "reviews.head()"
   ]
  },
  {
   "cell_type": "code",
   "execution_count": 5,
   "id": "4f11a5a7",
   "metadata": {
    "execution": {
     "iopub.execute_input": "2023-08-07T06:24:51.730669Z",
     "iopub.status.busy": "2023-08-07T06:24:51.730304Z",
     "iopub.status.idle": "2023-08-07T06:24:51.743074Z",
     "shell.execute_reply": "2023-08-07T06:24:51.742075Z"
    },
    "papermill": {
     "duration": 0.022056,
     "end_time": "2023-08-07T06:24:51.745533",
     "exception": false,
     "start_time": "2023-08-07T06:24:51.723477",
     "status": "completed"
    },
    "tags": []
   },
   "outputs": [
    {
     "data": {
      "application/javascript": [
       "parent.postMessage({\"jupyterEvent\": \"custom.exercise_interaction\", \"data\": {\"outcomeType\": 1, \"valueTowardsCompletion\": 0.16666666666666666, \"interactionType\": 1, \"questionType\": 1, \"questionId\": \"2_BestRatingPerPrice\", \"learnToolsVersion\": \"0.3.4\", \"failureMessage\": \"\", \"exceptionClass\": \"\", \"trace\": \"\"}}, \"*\")"
      ],
      "text/plain": [
       "<IPython.core.display.Javascript object>"
      ]
     },
     "metadata": {},
     "output_type": "display_data"
    },
    {
     "data": {
      "text/markdown": [
       "<span style=\"color:#33cc33\">Correct</span>"
      ],
      "text/plain": [
       "Correct"
      ]
     },
     "metadata": {},
     "output_type": "display_data"
    }
   ],
   "source": [
    "best_rating_per_price = pd.Series(reviews.groupby(['price'])['points'].max())\n",
    "\n",
    "# Check your answer\n",
    "q2.check()"
   ]
  },
  {
   "cell_type": "code",
   "execution_count": 6,
   "id": "5517fa30",
   "metadata": {
    "execution": {
     "iopub.execute_input": "2023-08-07T06:24:51.759471Z",
     "iopub.status.busy": "2023-08-07T06:24:51.759136Z",
     "iopub.status.idle": "2023-08-07T06:24:51.763326Z",
     "shell.execute_reply": "2023-08-07T06:24:51.762413Z"
    },
    "papermill": {
     "duration": 0.013658,
     "end_time": "2023-08-07T06:24:51.765203",
     "exception": false,
     "start_time": "2023-08-07T06:24:51.751545",
     "status": "completed"
    },
    "tags": []
   },
   "outputs": [],
   "source": [
    "#q2.hint()\n",
    "#q2.solution()"
   ]
  },
  {
   "cell_type": "markdown",
   "id": "34dfeaff",
   "metadata": {
    "papermill": {
     "duration": 0.005342,
     "end_time": "2023-08-07T06:24:51.776451",
     "exception": false,
     "start_time": "2023-08-07T06:24:51.771109",
     "status": "completed"
    },
    "tags": []
   },
   "source": [
    "## 3.\n",
    "What are the minimum and maximum prices for each `variety` of wine? Create a `DataFrame` whose index is the `variety` category from the dataset and whose values are the `min` and `max` values thereof."
   ]
  },
  {
   "cell_type": "code",
   "execution_count": 7,
   "id": "ff7ba7ad",
   "metadata": {
    "execution": {
     "iopub.execute_input": "2023-08-07T06:24:51.789139Z",
     "iopub.status.busy": "2023-08-07T06:24:51.788780Z",
     "iopub.status.idle": "2023-08-07T06:24:51.821072Z",
     "shell.execute_reply": "2023-08-07T06:24:51.819670Z"
    },
    "papermill": {
     "duration": 0.041031,
     "end_time": "2023-08-07T06:24:51.822990",
     "exception": false,
     "start_time": "2023-08-07T06:24:51.781959",
     "status": "completed"
    },
    "tags": []
   },
   "outputs": [
    {
     "data": {
      "application/javascript": [
       "parent.postMessage({\"jupyterEvent\": \"custom.exercise_interaction\", \"data\": {\"outcomeType\": 1, \"valueTowardsCompletion\": 0.16666666666666666, \"interactionType\": 1, \"questionType\": 1, \"questionId\": \"3_PriceExtremes\", \"learnToolsVersion\": \"0.3.4\", \"failureMessage\": \"\", \"exceptionClass\": \"\", \"trace\": \"\"}}, \"*\")"
      ],
      "text/plain": [
       "<IPython.core.display.Javascript object>"
      ]
     },
     "metadata": {},
     "output_type": "display_data"
    },
    {
     "data": {
      "text/markdown": [
       "<span style=\"color:#33cc33\">Correct</span>"
      ],
      "text/plain": [
       "Correct"
      ]
     },
     "metadata": {},
     "output_type": "display_data"
    }
   ],
   "source": [
    "price_extremes = pd.DataFrame({'min':reviews.groupby('variety')['price'].min(),\n",
    "                              'max': reviews.groupby('variety')['price'].max()})\n",
    "\n",
    "# Check your answer\n",
    "q3.check()"
   ]
  },
  {
   "cell_type": "code",
   "execution_count": 8,
   "id": "0bcc96d8",
   "metadata": {
    "execution": {
     "iopub.execute_input": "2023-08-07T06:24:51.835836Z",
     "iopub.status.busy": "2023-08-07T06:24:51.835557Z",
     "iopub.status.idle": "2023-08-07T06:24:51.840060Z",
     "shell.execute_reply": "2023-08-07T06:24:51.838954Z"
    },
    "papermill": {
     "duration": 0.01321,
     "end_time": "2023-08-07T06:24:51.842026",
     "exception": false,
     "start_time": "2023-08-07T06:24:51.828816",
     "status": "completed"
    },
    "tags": []
   },
   "outputs": [],
   "source": [
    "#q3.hint()\n",
    "#q3.solution()"
   ]
  },
  {
   "cell_type": "markdown",
   "id": "00356612",
   "metadata": {
    "papermill": {
     "duration": 0.005641,
     "end_time": "2023-08-07T06:24:51.853595",
     "exception": false,
     "start_time": "2023-08-07T06:24:51.847954",
     "status": "completed"
    },
    "tags": []
   },
   "source": [
    "## 4.\n",
    "What are the most expensive wine varieties? Create a variable `sorted_varieties` containing a copy of the dataframe from the previous question where varieties are sorted in descending order based on minimum price, then on maximum price (to break ties)."
   ]
  },
  {
   "cell_type": "code",
   "execution_count": 9,
   "id": "0acbc175",
   "metadata": {
    "execution": {
     "iopub.execute_input": "2023-08-07T06:24:51.868329Z",
     "iopub.status.busy": "2023-08-07T06:24:51.867934Z",
     "iopub.status.idle": "2023-08-07T06:24:51.878962Z",
     "shell.execute_reply": "2023-08-07T06:24:51.878058Z"
    },
    "papermill": {
     "duration": 0.020573,
     "end_time": "2023-08-07T06:24:51.880809",
     "exception": false,
     "start_time": "2023-08-07T06:24:51.860236",
     "status": "completed"
    },
    "tags": []
   },
   "outputs": [
    {
     "data": {
      "application/javascript": [
       "parent.postMessage({\"jupyterEvent\": \"custom.exercise_interaction\", \"data\": {\"outcomeType\": 1, \"valueTowardsCompletion\": 0.16666666666666666, \"interactionType\": 1, \"questionType\": 1, \"questionId\": \"4_SortedVarieties\", \"learnToolsVersion\": \"0.3.4\", \"failureMessage\": \"\", \"exceptionClass\": \"\", \"trace\": \"\"}}, \"*\")"
      ],
      "text/plain": [
       "<IPython.core.display.Javascript object>"
      ]
     },
     "metadata": {},
     "output_type": "display_data"
    },
    {
     "data": {
      "text/markdown": [
       "<span style=\"color:#33cc33\">Correct</span>"
      ],
      "text/plain": [
       "Correct"
      ]
     },
     "metadata": {},
     "output_type": "display_data"
    }
   ],
   "source": [
    "sorted_varieties = price_extremes.sort_values(['min', 'max'], ascending=False)\n",
    "\n",
    "# Check your answer\n",
    "q4.check()"
   ]
  },
  {
   "cell_type": "code",
   "execution_count": 10,
   "id": "ccaeea51",
   "metadata": {
    "execution": {
     "iopub.execute_input": "2023-08-07T06:24:51.895260Z",
     "iopub.status.busy": "2023-08-07T06:24:51.894856Z",
     "iopub.status.idle": "2023-08-07T06:24:51.906236Z",
     "shell.execute_reply": "2023-08-07T06:24:51.905590Z"
    },
    "papermill": {
     "duration": 0.020512,
     "end_time": "2023-08-07T06:24:51.907726",
     "exception": false,
     "start_time": "2023-08-07T06:24:51.887214",
     "status": "completed"
    },
    "tags": []
   },
   "outputs": [
    {
     "data": {
      "text/html": [
       "<div>\n",
       "<style scoped>\n",
       "    .dataframe tbody tr th:only-of-type {\n",
       "        vertical-align: middle;\n",
       "    }\n",
       "\n",
       "    .dataframe tbody tr th {\n",
       "        vertical-align: top;\n",
       "    }\n",
       "\n",
       "    .dataframe thead th {\n",
       "        text-align: right;\n",
       "    }\n",
       "</style>\n",
       "<table border=\"1\" class=\"dataframe\">\n",
       "  <thead>\n",
       "    <tr style=\"text-align: right;\">\n",
       "      <th></th>\n",
       "      <th>min</th>\n",
       "      <th>max</th>\n",
       "    </tr>\n",
       "    <tr>\n",
       "      <th>variety</th>\n",
       "      <th></th>\n",
       "      <th></th>\n",
       "    </tr>\n",
       "  </thead>\n",
       "  <tbody>\n",
       "    <tr>\n",
       "      <th>Ramisco</th>\n",
       "      <td>495.0</td>\n",
       "      <td>495.0</td>\n",
       "    </tr>\n",
       "    <tr>\n",
       "      <th>Terrantez</th>\n",
       "      <td>236.0</td>\n",
       "      <td>236.0</td>\n",
       "    </tr>\n",
       "    <tr>\n",
       "      <th>Francisa</th>\n",
       "      <td>160.0</td>\n",
       "      <td>160.0</td>\n",
       "    </tr>\n",
       "    <tr>\n",
       "      <th>Rosenmuskateller</th>\n",
       "      <td>150.0</td>\n",
       "      <td>150.0</td>\n",
       "    </tr>\n",
       "    <tr>\n",
       "      <th>Tinta Negra Mole</th>\n",
       "      <td>112.0</td>\n",
       "      <td>112.0</td>\n",
       "    </tr>\n",
       "    <tr>\n",
       "      <th>...</th>\n",
       "      <td>...</td>\n",
       "      <td>...</td>\n",
       "    </tr>\n",
       "    <tr>\n",
       "      <th>Roscetto</th>\n",
       "      <td>NaN</td>\n",
       "      <td>NaN</td>\n",
       "    </tr>\n",
       "    <tr>\n",
       "      <th>Sauvignon Blanc-Sauvignon Gris</th>\n",
       "      <td>NaN</td>\n",
       "      <td>NaN</td>\n",
       "    </tr>\n",
       "    <tr>\n",
       "      <th>Tempranillo-Malbec</th>\n",
       "      <td>NaN</td>\n",
       "      <td>NaN</td>\n",
       "    </tr>\n",
       "    <tr>\n",
       "      <th>Vital</th>\n",
       "      <td>NaN</td>\n",
       "      <td>NaN</td>\n",
       "    </tr>\n",
       "    <tr>\n",
       "      <th>Zelen</th>\n",
       "      <td>NaN</td>\n",
       "      <td>NaN</td>\n",
       "    </tr>\n",
       "  </tbody>\n",
       "</table>\n",
       "<p>707 rows × 2 columns</p>\n",
       "</div>"
      ],
      "text/plain": [
       "                                  min    max\n",
       "variety                                     \n",
       "Ramisco                         495.0  495.0\n",
       "Terrantez                       236.0  236.0\n",
       "Francisa                        160.0  160.0\n",
       "Rosenmuskateller                150.0  150.0\n",
       "Tinta Negra Mole                112.0  112.0\n",
       "...                               ...    ...\n",
       "Roscetto                          NaN    NaN\n",
       "Sauvignon Blanc-Sauvignon Gris    NaN    NaN\n",
       "Tempranillo-Malbec                NaN    NaN\n",
       "Vital                             NaN    NaN\n",
       "Zelen                             NaN    NaN\n",
       "\n",
       "[707 rows x 2 columns]"
      ]
     },
     "execution_count": 10,
     "metadata": {},
     "output_type": "execute_result"
    }
   ],
   "source": [
    "sorted_varieties"
   ]
  },
  {
   "cell_type": "code",
   "execution_count": 11,
   "id": "d2fe38c6",
   "metadata": {
    "execution": {
     "iopub.execute_input": "2023-08-07T06:24:51.922888Z",
     "iopub.status.busy": "2023-08-07T06:24:51.922504Z",
     "iopub.status.idle": "2023-08-07T06:24:51.926757Z",
     "shell.execute_reply": "2023-08-07T06:24:51.925520Z"
    },
    "papermill": {
     "duration": 0.014574,
     "end_time": "2023-08-07T06:24:51.929003",
     "exception": false,
     "start_time": "2023-08-07T06:24:51.914429",
     "status": "completed"
    },
    "tags": []
   },
   "outputs": [],
   "source": [
    "#q4.hint()\n",
    "#q4.solution()"
   ]
  },
  {
   "cell_type": "markdown",
   "id": "ffb44d46",
   "metadata": {
    "papermill": {
     "duration": 0.006551,
     "end_time": "2023-08-07T06:24:51.942491",
     "exception": false,
     "start_time": "2023-08-07T06:24:51.935940",
     "status": "completed"
    },
    "tags": []
   },
   "source": [
    "## 5.\n",
    "Create a `Series` whose index is reviewers and whose values is the average review score given out by that reviewer. Hint: you will need the `taster_name` and `points` columns."
   ]
  },
  {
   "cell_type": "code",
   "execution_count": 12,
   "id": "08318337",
   "metadata": {
    "execution": {
     "iopub.execute_input": "2023-08-07T06:24:51.958205Z",
     "iopub.status.busy": "2023-08-07T06:24:51.957855Z",
     "iopub.status.idle": "2023-08-07T06:24:51.975967Z",
     "shell.execute_reply": "2023-08-07T06:24:51.974999Z"
    },
    "papermill": {
     "duration": 0.029026,
     "end_time": "2023-08-07T06:24:51.978507",
     "exception": false,
     "start_time": "2023-08-07T06:24:51.949481",
     "status": "completed"
    },
    "tags": []
   },
   "outputs": [
    {
     "data": {
      "application/javascript": [
       "parent.postMessage({\"jupyterEvent\": \"custom.exercise_interaction\", \"data\": {\"outcomeType\": 1, \"valueTowardsCompletion\": 0.16666666666666666, \"interactionType\": 1, \"questionType\": 1, \"questionId\": \"5_ReviewerMeanRatings\", \"learnToolsVersion\": \"0.3.4\", \"failureMessage\": \"\", \"exceptionClass\": \"\", \"trace\": \"\"}}, \"*\")"
      ],
      "text/plain": [
       "<IPython.core.display.Javascript object>"
      ]
     },
     "metadata": {},
     "output_type": "display_data"
    },
    {
     "data": {
      "text/markdown": [
       "<span style=\"color:#33cc33\">Correct</span>"
      ],
      "text/plain": [
       "Correct"
      ]
     },
     "metadata": {},
     "output_type": "display_data"
    }
   ],
   "source": [
    "reviewer_mean_ratings = reviews.groupby(['taster_name'])['points'].mean()\n",
    "\n",
    "# Check your answer\n",
    "q5.check()"
   ]
  },
  {
   "cell_type": "code",
   "execution_count": 13,
   "id": "422fcc3d",
   "metadata": {
    "execution": {
     "iopub.execute_input": "2023-08-07T06:24:51.995032Z",
     "iopub.status.busy": "2023-08-07T06:24:51.994701Z",
     "iopub.status.idle": "2023-08-07T06:24:51.999650Z",
     "shell.execute_reply": "2023-08-07T06:24:51.998434Z"
    },
    "papermill": {
     "duration": 0.015997,
     "end_time": "2023-08-07T06:24:52.001823",
     "exception": false,
     "start_time": "2023-08-07T06:24:51.985826",
     "status": "completed"
    },
    "tags": []
   },
   "outputs": [],
   "source": [
    "#q5.hint()\n",
    "#q5.solution()"
   ]
  },
  {
   "cell_type": "markdown",
   "id": "1038d15d",
   "metadata": {
    "papermill": {
     "duration": 0.006707,
     "end_time": "2023-08-07T06:24:52.015644",
     "exception": false,
     "start_time": "2023-08-07T06:24:52.008937",
     "status": "completed"
    },
    "tags": []
   },
   "source": [
    "Are there significant differences in the average scores assigned by the various reviewers? Run the cell below to use the `describe()` method to see a summary of the range of values."
   ]
  },
  {
   "cell_type": "code",
   "execution_count": 14,
   "id": "56abb5df",
   "metadata": {
    "execution": {
     "iopub.execute_input": "2023-08-07T06:24:52.031457Z",
     "iopub.status.busy": "2023-08-07T06:24:52.030644Z",
     "iopub.status.idle": "2023-08-07T06:24:52.042648Z",
     "shell.execute_reply": "2023-08-07T06:24:52.041267Z"
    },
    "papermill": {
     "duration": 0.022524,
     "end_time": "2023-08-07T06:24:52.044978",
     "exception": false,
     "start_time": "2023-08-07T06:24:52.022454",
     "status": "completed"
    },
    "tags": []
   },
   "outputs": [
    {
     "data": {
      "text/plain": [
       "count    19.000000\n",
       "mean     88.233026\n",
       "std       1.243610\n",
       "min      85.855422\n",
       "25%      87.323501\n",
       "50%      88.536235\n",
       "75%      88.975256\n",
       "max      90.562551\n",
       "Name: points, dtype: float64"
      ]
     },
     "execution_count": 14,
     "metadata": {},
     "output_type": "execute_result"
    }
   ],
   "source": [
    "reviewer_mean_ratings.describe()"
   ]
  },
  {
   "cell_type": "markdown",
   "id": "a8d19ccb",
   "metadata": {
    "papermill": {
     "duration": 0.006684,
     "end_time": "2023-08-07T06:24:52.059097",
     "exception": false,
     "start_time": "2023-08-07T06:24:52.052413",
     "status": "completed"
    },
    "tags": []
   },
   "source": [
    "## 6.\n",
    "What combination of countries and varieties are most common? Create a `Series` whose index is a `MultiIndex`of `{country, variety}` pairs. For example, a pinot noir produced in the US should map to `{\"US\", \"Pinot Noir\"}`. Sort the values in the `Series` in descending order based on wine count."
   ]
  },
  {
   "cell_type": "code",
   "execution_count": 15,
   "id": "e876a934",
   "metadata": {
    "execution": {
     "iopub.execute_input": "2023-08-07T06:24:52.075148Z",
     "iopub.status.busy": "2023-08-07T06:24:52.074556Z",
     "iopub.status.idle": "2023-08-07T06:24:52.104222Z",
     "shell.execute_reply": "2023-08-07T06:24:52.103079Z"
    },
    "papermill": {
     "duration": 0.040101,
     "end_time": "2023-08-07T06:24:52.106321",
     "exception": false,
     "start_time": "2023-08-07T06:24:52.066220",
     "status": "completed"
    },
    "tags": []
   },
   "outputs": [
    {
     "data": {
      "application/javascript": [
       "parent.postMessage({\"jupyterEvent\": \"custom.exercise_interaction\", \"data\": {\"outcomeType\": 1, \"valueTowardsCompletion\": 0.16666666666666666, \"interactionType\": 1, \"questionType\": 1, \"questionId\": \"6_GroupbyCountryVariety\", \"learnToolsVersion\": \"0.3.4\", \"failureMessage\": \"\", \"exceptionClass\": \"\", \"trace\": \"\"}}, \"*\")"
      ],
      "text/plain": [
       "<IPython.core.display.Javascript object>"
      ]
     },
     "metadata": {},
     "output_type": "display_data"
    },
    {
     "data": {
      "text/markdown": [
       "<span style=\"color:#33cc33\">Correct</span>"
      ],
      "text/plain": [
       "Correct"
      ]
     },
     "metadata": {},
     "output_type": "display_data"
    }
   ],
   "source": [
    "country_variety_counts = reviews.groupby(['country', 'variety']).size().sort_values(ascending=False)\n",
    "\n",
    "# Check your answer\n",
    "q6.check()"
   ]
  },
  {
   "cell_type": "code",
   "execution_count": 16,
   "id": "9ac0c45f",
   "metadata": {
    "execution": {
     "iopub.execute_input": "2023-08-07T06:24:52.122907Z",
     "iopub.status.busy": "2023-08-07T06:24:52.122377Z",
     "iopub.status.idle": "2023-08-07T06:24:52.126199Z",
     "shell.execute_reply": "2023-08-07T06:24:52.125271Z"
    },
    "papermill": {
     "duration": 0.014362,
     "end_time": "2023-08-07T06:24:52.128064",
     "exception": false,
     "start_time": "2023-08-07T06:24:52.113702",
     "status": "completed"
    },
    "tags": []
   },
   "outputs": [],
   "source": [
    "#q6.hint()\n",
    "#q6.solution()"
   ]
  },
  {
   "cell_type": "markdown",
   "id": "40d3a2b2",
   "metadata": {
    "papermill": {
     "duration": 0.007357,
     "end_time": "2023-08-07T06:24:52.142612",
     "exception": false,
     "start_time": "2023-08-07T06:24:52.135255",
     "status": "completed"
    },
    "tags": []
   },
   "source": [
    "# Keep going\n",
    "\n",
    "Move on to the [**data types and missing data**](https://www.kaggle.com/residentmario/data-types-and-missing-values)."
   ]
  },
  {
   "cell_type": "markdown",
   "id": "686e6505",
   "metadata": {
    "papermill": {
     "duration": 0.007926,
     "end_time": "2023-08-07T06:24:52.158510",
     "exception": false,
     "start_time": "2023-08-07T06:24:52.150584",
     "status": "completed"
    },
    "tags": []
   },
   "source": [
    "---\n",
    "\n",
    "\n",
    "\n",
    "\n",
    "*Have questions or comments? Visit the [course discussion forum](https://www.kaggle.com/learn/pandas/discussion) to chat with other learners.*"
   ]
  }
 ],
 "metadata": {
  "kernelspec": {
   "display_name": "Python 3",
   "language": "python",
   "name": "python3"
  },
  "language_info": {
   "codemirror_mode": {
    "name": "ipython",
    "version": 3
   },
   "file_extension": ".py",
   "mimetype": "text/x-python",
   "name": "python",
   "nbconvert_exporter": "python",
   "pygments_lexer": "ipython3",
   "version": "3.10.12"
  },
  "papermill": {
   "default_parameters": {},
   "duration": 12.041188,
   "end_time": "2023-08-07T06:24:52.986715",
   "environment_variables": {},
   "exception": null,
   "input_path": "__notebook__.ipynb",
   "output_path": "__notebook__.ipynb",
   "parameters": {},
   "start_time": "2023-08-07T06:24:40.945527",
   "version": "2.4.0"
  }
 },
 "nbformat": 4,
 "nbformat_minor": 5
}
