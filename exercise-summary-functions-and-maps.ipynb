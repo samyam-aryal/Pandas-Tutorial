{
 "cells": [
  {
   "cell_type": "markdown",
   "id": "a8e65bf3",
   "metadata": {
    "papermill": {
     "duration": 0.009135,
     "end_time": "2023-08-07T05:38:28.362021",
     "exception": false,
     "start_time": "2023-08-07T05:38:28.352886",
     "status": "completed"
    },
    "tags": []
   },
   "source": [
    "**This notebook is an exercise in the [Pandas](https://www.kaggle.com/learn/pandas) course.  You can reference the tutorial at [this link](https://www.kaggle.com/residentmario/summary-functions-and-maps).**\n",
    "\n",
    "---\n"
   ]
  },
  {
   "cell_type": "markdown",
   "id": "0b0f9772",
   "metadata": {
    "papermill": {
     "duration": 0.008714,
     "end_time": "2023-08-07T05:38:28.379586",
     "exception": false,
     "start_time": "2023-08-07T05:38:28.370872",
     "status": "completed"
    },
    "tags": []
   },
   "source": [
    "# Introduction\n",
    "\n",
    "Now you are ready to get a deeper understanding of your data.\n",
    "\n",
    "Run the following cell to load your data and some utility functions (including code to check your answers)."
   ]
  },
  {
   "cell_type": "code",
   "execution_count": 1,
   "id": "f6b77189",
   "metadata": {
    "execution": {
     "iopub.execute_input": "2023-08-07T05:38:28.398102Z",
     "iopub.status.busy": "2023-08-07T05:38:28.397717Z",
     "iopub.status.idle": "2023-08-07T05:38:37.136589Z",
     "shell.execute_reply": "2023-08-07T05:38:37.135472Z"
    },
    "papermill": {
     "duration": 8.751734,
     "end_time": "2023-08-07T05:38:37.139796",
     "exception": false,
     "start_time": "2023-08-07T05:38:28.388062",
     "status": "completed"
    },
    "tags": []
   },
   "outputs": [
    {
     "name": "stdout",
     "output_type": "stream",
     "text": [
      "Setup complete.\n"
     ]
    },
    {
     "data": {
      "text/html": [
       "<div>\n",
       "<style scoped>\n",
       "    .dataframe tbody tr th:only-of-type {\n",
       "        vertical-align: middle;\n",
       "    }\n",
       "\n",
       "    .dataframe tbody tr th {\n",
       "        vertical-align: top;\n",
       "    }\n",
       "\n",
       "    .dataframe thead th {\n",
       "        text-align: right;\n",
       "    }\n",
       "</style>\n",
       "<table border=\"1\" class=\"dataframe\">\n",
       "  <thead>\n",
       "    <tr style=\"text-align: right;\">\n",
       "      <th></th>\n",
       "      <th>country</th>\n",
       "      <th>description</th>\n",
       "      <th>designation</th>\n",
       "      <th>points</th>\n",
       "      <th>price</th>\n",
       "      <th>province</th>\n",
       "      <th>region_1</th>\n",
       "      <th>region_2</th>\n",
       "      <th>taster_name</th>\n",
       "      <th>taster_twitter_handle</th>\n",
       "      <th>title</th>\n",
       "      <th>variety</th>\n",
       "      <th>winery</th>\n",
       "    </tr>\n",
       "  </thead>\n",
       "  <tbody>\n",
       "    <tr>\n",
       "      <th>0</th>\n",
       "      <td>Italy</td>\n",
       "      <td>Aromas include tropical fruit, broom, brimston...</td>\n",
       "      <td>Vulkà Bianco</td>\n",
       "      <td>87</td>\n",
       "      <td>NaN</td>\n",
       "      <td>Sicily &amp; Sardinia</td>\n",
       "      <td>Etna</td>\n",
       "      <td>NaN</td>\n",
       "      <td>Kerin O’Keefe</td>\n",
       "      <td>@kerinokeefe</td>\n",
       "      <td>Nicosia 2013 Vulkà Bianco  (Etna)</td>\n",
       "      <td>White Blend</td>\n",
       "      <td>Nicosia</td>\n",
       "    </tr>\n",
       "    <tr>\n",
       "      <th>1</th>\n",
       "      <td>Portugal</td>\n",
       "      <td>This is ripe and fruity, a wine that is smooth...</td>\n",
       "      <td>Avidagos</td>\n",
       "      <td>87</td>\n",
       "      <td>15.0</td>\n",
       "      <td>Douro</td>\n",
       "      <td>NaN</td>\n",
       "      <td>NaN</td>\n",
       "      <td>Roger Voss</td>\n",
       "      <td>@vossroger</td>\n",
       "      <td>Quinta dos Avidagos 2011 Avidagos Red (Douro)</td>\n",
       "      <td>Portuguese Red</td>\n",
       "      <td>Quinta dos Avidagos</td>\n",
       "    </tr>\n",
       "    <tr>\n",
       "      <th>2</th>\n",
       "      <td>US</td>\n",
       "      <td>Tart and snappy, the flavors of lime flesh and...</td>\n",
       "      <td>NaN</td>\n",
       "      <td>87</td>\n",
       "      <td>14.0</td>\n",
       "      <td>Oregon</td>\n",
       "      <td>Willamette Valley</td>\n",
       "      <td>Willamette Valley</td>\n",
       "      <td>Paul Gregutt</td>\n",
       "      <td>@paulgwine</td>\n",
       "      <td>Rainstorm 2013 Pinot Gris (Willamette Valley)</td>\n",
       "      <td>Pinot Gris</td>\n",
       "      <td>Rainstorm</td>\n",
       "    </tr>\n",
       "    <tr>\n",
       "      <th>3</th>\n",
       "      <td>US</td>\n",
       "      <td>Pineapple rind, lemon pith and orange blossom ...</td>\n",
       "      <td>Reserve Late Harvest</td>\n",
       "      <td>87</td>\n",
       "      <td>13.0</td>\n",
       "      <td>Michigan</td>\n",
       "      <td>Lake Michigan Shore</td>\n",
       "      <td>NaN</td>\n",
       "      <td>Alexander Peartree</td>\n",
       "      <td>NaN</td>\n",
       "      <td>St. Julian 2013 Reserve Late Harvest Riesling ...</td>\n",
       "      <td>Riesling</td>\n",
       "      <td>St. Julian</td>\n",
       "    </tr>\n",
       "    <tr>\n",
       "      <th>4</th>\n",
       "      <td>US</td>\n",
       "      <td>Much like the regular bottling from 2012, this...</td>\n",
       "      <td>Vintner's Reserve Wild Child Block</td>\n",
       "      <td>87</td>\n",
       "      <td>65.0</td>\n",
       "      <td>Oregon</td>\n",
       "      <td>Willamette Valley</td>\n",
       "      <td>Willamette Valley</td>\n",
       "      <td>Paul Gregutt</td>\n",
       "      <td>@paulgwine</td>\n",
       "      <td>Sweet Cheeks 2012 Vintner's Reserve Wild Child...</td>\n",
       "      <td>Pinot Noir</td>\n",
       "      <td>Sweet Cheeks</td>\n",
       "    </tr>\n",
       "  </tbody>\n",
       "</table>\n",
       "</div>"
      ],
      "text/plain": [
       "    country                                        description  \\\n",
       "0     Italy  Aromas include tropical fruit, broom, brimston...   \n",
       "1  Portugal  This is ripe and fruity, a wine that is smooth...   \n",
       "2        US  Tart and snappy, the flavors of lime flesh and...   \n",
       "3        US  Pineapple rind, lemon pith and orange blossom ...   \n",
       "4        US  Much like the regular bottling from 2012, this...   \n",
       "\n",
       "                          designation  points  price           province  \\\n",
       "0                        Vulkà Bianco      87    NaN  Sicily & Sardinia   \n",
       "1                            Avidagos      87   15.0              Douro   \n",
       "2                                 NaN      87   14.0             Oregon   \n",
       "3                Reserve Late Harvest      87   13.0           Michigan   \n",
       "4  Vintner's Reserve Wild Child Block      87   65.0             Oregon   \n",
       "\n",
       "              region_1           region_2         taster_name  \\\n",
       "0                 Etna                NaN       Kerin O’Keefe   \n",
       "1                  NaN                NaN          Roger Voss   \n",
       "2    Willamette Valley  Willamette Valley        Paul Gregutt   \n",
       "3  Lake Michigan Shore                NaN  Alexander Peartree   \n",
       "4    Willamette Valley  Willamette Valley        Paul Gregutt   \n",
       "\n",
       "  taster_twitter_handle                                              title  \\\n",
       "0          @kerinokeefe                  Nicosia 2013 Vulkà Bianco  (Etna)   \n",
       "1            @vossroger      Quinta dos Avidagos 2011 Avidagos Red (Douro)   \n",
       "2           @paulgwine       Rainstorm 2013 Pinot Gris (Willamette Valley)   \n",
       "3                   NaN  St. Julian 2013 Reserve Late Harvest Riesling ...   \n",
       "4           @paulgwine   Sweet Cheeks 2012 Vintner's Reserve Wild Child...   \n",
       "\n",
       "          variety               winery  \n",
       "0     White Blend              Nicosia  \n",
       "1  Portuguese Red  Quinta dos Avidagos  \n",
       "2      Pinot Gris            Rainstorm  \n",
       "3        Riesling           St. Julian  \n",
       "4      Pinot Noir         Sweet Cheeks  "
      ]
     },
     "execution_count": 1,
     "metadata": {},
     "output_type": "execute_result"
    }
   ],
   "source": [
    "import pandas as pd\n",
    "pd.set_option(\"display.max_rows\", 5)\n",
    "reviews = pd.read_csv(\"../input/wine-reviews/winemag-data-130k-v2.csv\", index_col=0)\n",
    "\n",
    "from learntools.core import binder; binder.bind(globals())\n",
    "from learntools.pandas.summary_functions_and_maps import *\n",
    "print(\"Setup complete.\")\n",
    "\n",
    "reviews.head()"
   ]
  },
  {
   "cell_type": "markdown",
   "id": "8b48fdfa",
   "metadata": {
    "papermill": {
     "duration": 0.009217,
     "end_time": "2023-08-07T05:38:37.158234",
     "exception": false,
     "start_time": "2023-08-07T05:38:37.149017",
     "status": "completed"
    },
    "tags": []
   },
   "source": [
    "# Exercises"
   ]
  },
  {
   "cell_type": "markdown",
   "id": "e690bf62",
   "metadata": {
    "papermill": {
     "duration": 0.009011,
     "end_time": "2023-08-07T05:38:37.176760",
     "exception": false,
     "start_time": "2023-08-07T05:38:37.167749",
     "status": "completed"
    },
    "tags": []
   },
   "source": [
    "## 1.\n",
    "\n",
    "What is the median of the `points` column in the `reviews` DataFrame?"
   ]
  },
  {
   "cell_type": "code",
   "execution_count": 2,
   "id": "38ebcaba",
   "metadata": {
    "execution": {
     "iopub.execute_input": "2023-08-07T05:38:37.196964Z",
     "iopub.status.busy": "2023-08-07T05:38:37.196426Z",
     "iopub.status.idle": "2023-08-07T05:38:37.208051Z",
     "shell.execute_reply": "2023-08-07T05:38:37.206860Z"
    },
    "papermill": {
     "duration": 0.024431,
     "end_time": "2023-08-07T05:38:37.210390",
     "exception": false,
     "start_time": "2023-08-07T05:38:37.185959",
     "status": "completed"
    },
    "tags": []
   },
   "outputs": [
    {
     "data": {
      "application/javascript": [
       "parent.postMessage({\"jupyterEvent\": \"custom.exercise_interaction\", \"data\": {\"outcomeType\": 1, \"valueTowardsCompletion\": 0.14285714285714285, \"interactionType\": 1, \"questionType\": 1, \"questionId\": \"1_MedianPoints\", \"learnToolsVersion\": \"0.3.4\", \"failureMessage\": \"\", \"exceptionClass\": \"\", \"trace\": \"\"}}, \"*\")"
      ],
      "text/plain": [
       "<IPython.core.display.Javascript object>"
      ]
     },
     "metadata": {},
     "output_type": "display_data"
    },
    {
     "data": {
      "text/markdown": [
       "<span style=\"color:#33cc33\">Correct</span>"
      ],
      "text/plain": [
       "Correct"
      ]
     },
     "metadata": {},
     "output_type": "display_data"
    }
   ],
   "source": [
    "median_points = reviews['points'].median()\n",
    "\n",
    "# Check your answer\n",
    "q1.check()"
   ]
  },
  {
   "cell_type": "code",
   "execution_count": 3,
   "id": "5c4f65b5",
   "metadata": {
    "execution": {
     "iopub.execute_input": "2023-08-07T05:38:37.232703Z",
     "iopub.status.busy": "2023-08-07T05:38:37.232247Z",
     "iopub.status.idle": "2023-08-07T05:38:37.236359Z",
     "shell.execute_reply": "2023-08-07T05:38:37.235176Z"
    },
    "papermill": {
     "duration": 0.017515,
     "end_time": "2023-08-07T05:38:37.238746",
     "exception": false,
     "start_time": "2023-08-07T05:38:37.221231",
     "status": "completed"
    },
    "tags": []
   },
   "outputs": [],
   "source": [
    "#q1.hint()\n",
    "#q1.solution()"
   ]
  },
  {
   "cell_type": "markdown",
   "id": "e6473b9f",
   "metadata": {
    "papermill": {
     "duration": 0.009154,
     "end_time": "2023-08-07T05:38:37.257568",
     "exception": false,
     "start_time": "2023-08-07T05:38:37.248414",
     "status": "completed"
    },
    "tags": []
   },
   "source": [
    "## 2. \n",
    "What countries are represented in the dataset? (Your answer should not include any duplicates.)"
   ]
  },
  {
   "cell_type": "code",
   "execution_count": 4,
   "id": "f1126ef0",
   "metadata": {
    "execution": {
     "iopub.execute_input": "2023-08-07T05:38:37.278254Z",
     "iopub.status.busy": "2023-08-07T05:38:37.277838Z",
     "iopub.status.idle": "2023-08-07T05:38:37.300084Z",
     "shell.execute_reply": "2023-08-07T05:38:37.299008Z"
    },
    "papermill": {
     "duration": 0.035272,
     "end_time": "2023-08-07T05:38:37.302352",
     "exception": false,
     "start_time": "2023-08-07T05:38:37.267080",
     "status": "completed"
    },
    "tags": []
   },
   "outputs": [
    {
     "data": {
      "application/javascript": [
       "parent.postMessage({\"jupyterEvent\": \"custom.exercise_interaction\", \"data\": {\"outcomeType\": 1, \"valueTowardsCompletion\": 0.14285714285714285, \"interactionType\": 1, \"questionType\": 2, \"questionId\": \"2_UniqueCountries\", \"learnToolsVersion\": \"0.3.4\", \"failureMessage\": \"\", \"exceptionClass\": \"\", \"trace\": \"\"}}, \"*\")"
      ],
      "text/plain": [
       "<IPython.core.display.Javascript object>"
      ]
     },
     "metadata": {},
     "output_type": "display_data"
    },
    {
     "data": {
      "text/markdown": [
       "<span style=\"color:#33cc33\">Correct</span>"
      ],
      "text/plain": [
       "Correct"
      ]
     },
     "metadata": {},
     "output_type": "display_data"
    }
   ],
   "source": [
    "countries = reviews['country'].unique()\n",
    "\n",
    "# Check your answer\n",
    "q2.check()"
   ]
  },
  {
   "cell_type": "code",
   "execution_count": 5,
   "id": "5794e28b",
   "metadata": {
    "execution": {
     "iopub.execute_input": "2023-08-07T05:38:37.324260Z",
     "iopub.status.busy": "2023-08-07T05:38:37.323830Z",
     "iopub.status.idle": "2023-08-07T05:38:37.328768Z",
     "shell.execute_reply": "2023-08-07T05:38:37.327634Z"
    },
    "papermill": {
     "duration": 0.018931,
     "end_time": "2023-08-07T05:38:37.331181",
     "exception": false,
     "start_time": "2023-08-07T05:38:37.312250",
     "status": "completed"
    },
    "tags": []
   },
   "outputs": [],
   "source": [
    "#q2.hint()\n",
    "#q2.solution()"
   ]
  },
  {
   "cell_type": "markdown",
   "id": "7fec2d84",
   "metadata": {
    "papermill": {
     "duration": 0.009491,
     "end_time": "2023-08-07T05:38:37.350729",
     "exception": false,
     "start_time": "2023-08-07T05:38:37.341238",
     "status": "completed"
    },
    "tags": []
   },
   "source": [
    "## 3.\n",
    "How often does each country appear in the dataset? Create a Series `reviews_per_country` mapping countries to the count of reviews of wines from that country."
   ]
  },
  {
   "cell_type": "code",
   "execution_count": 6,
   "id": "f537fb9c",
   "metadata": {
    "execution": {
     "iopub.execute_input": "2023-08-07T05:38:37.372104Z",
     "iopub.status.busy": "2023-08-07T05:38:37.371688Z",
     "iopub.status.idle": "2023-08-07T05:38:37.379048Z",
     "shell.execute_reply": "2023-08-07T05:38:37.377898Z"
    },
    "papermill": {
     "duration": 0.020848,
     "end_time": "2023-08-07T05:38:37.381448",
     "exception": false,
     "start_time": "2023-08-07T05:38:37.360600",
     "status": "completed"
    },
    "tags": []
   },
   "outputs": [
    {
     "data": {
      "text/plain": [
       "Index(['country', 'description', 'designation', 'points', 'price', 'province',\n",
       "       'region_1', 'region_2', 'taster_name', 'taster_twitter_handle', 'title',\n",
       "       'variety', 'winery'],\n",
       "      dtype='object')"
      ]
     },
     "execution_count": 6,
     "metadata": {},
     "output_type": "execute_result"
    }
   ],
   "source": [
    "reviews.columns"
   ]
  },
  {
   "cell_type": "code",
   "execution_count": 7,
   "id": "35d619c0",
   "metadata": {
    "execution": {
     "iopub.execute_input": "2023-08-07T05:38:37.403470Z",
     "iopub.status.busy": "2023-08-07T05:38:37.403081Z",
     "iopub.status.idle": "2023-08-07T05:38:37.432546Z",
     "shell.execute_reply": "2023-08-07T05:38:37.431501Z"
    },
    "papermill": {
     "duration": 0.043415,
     "end_time": "2023-08-07T05:38:37.434909",
     "exception": false,
     "start_time": "2023-08-07T05:38:37.391494",
     "status": "completed"
    },
    "tags": []
   },
   "outputs": [
    {
     "data": {
      "application/javascript": [
       "parent.postMessage({\"jupyterEvent\": \"custom.exercise_interaction\", \"data\": {\"outcomeType\": 1, \"valueTowardsCompletion\": 0.14285714285714285, \"interactionType\": 1, \"questionType\": 1, \"questionId\": \"3_ReviewsPerCountry\", \"learnToolsVersion\": \"0.3.4\", \"failureMessage\": \"\", \"exceptionClass\": \"\", \"trace\": \"\"}}, \"*\")"
      ],
      "text/plain": [
       "<IPython.core.display.Javascript object>"
      ]
     },
     "metadata": {},
     "output_type": "display_data"
    },
    {
     "data": {
      "text/markdown": [
       "<span style=\"color:#33cc33\">Correct</span>"
      ],
      "text/plain": [
       "Correct"
      ]
     },
     "metadata": {},
     "output_type": "display_data"
    }
   ],
   "source": [
    "reviews_per_country = pd.Series(reviews['country'].value_counts())\n",
    "\n",
    "# Check your answer\n",
    "q3.check()"
   ]
  },
  {
   "cell_type": "code",
   "execution_count": 8,
   "id": "30f6e2b2",
   "metadata": {
    "execution": {
     "iopub.execute_input": "2023-08-07T05:38:37.457492Z",
     "iopub.status.busy": "2023-08-07T05:38:37.457068Z",
     "iopub.status.idle": "2023-08-07T05:38:37.461802Z",
     "shell.execute_reply": "2023-08-07T05:38:37.460587Z"
    },
    "papermill": {
     "duration": 0.01877,
     "end_time": "2023-08-07T05:38:37.464052",
     "exception": false,
     "start_time": "2023-08-07T05:38:37.445282",
     "status": "completed"
    },
    "tags": []
   },
   "outputs": [],
   "source": [
    "#q3.hint()\n",
    "#q3.solution()"
   ]
  },
  {
   "cell_type": "markdown",
   "id": "0592d110",
   "metadata": {
    "papermill": {
     "duration": 0.01008,
     "end_time": "2023-08-07T05:38:37.484321",
     "exception": false,
     "start_time": "2023-08-07T05:38:37.474241",
     "status": "completed"
    },
    "tags": []
   },
   "source": [
    "## 4.\n",
    "Create variable `centered_price` containing a version of the `price` column with the mean price subtracted.\n",
    "\n",
    "(Note: this 'centering' transformation is a common preprocessing step before applying various machine learning algorithms.) "
   ]
  },
  {
   "cell_type": "code",
   "execution_count": 9,
   "id": "7f76b64f",
   "metadata": {
    "execution": {
     "iopub.execute_input": "2023-08-07T05:38:37.506585Z",
     "iopub.status.busy": "2023-08-07T05:38:37.506182Z",
     "iopub.status.idle": "2023-08-07T05:38:37.517884Z",
     "shell.execute_reply": "2023-08-07T05:38:37.516762Z"
    },
    "papermill": {
     "duration": 0.025664,
     "end_time": "2023-08-07T05:38:37.520301",
     "exception": false,
     "start_time": "2023-08-07T05:38:37.494637",
     "status": "completed"
    },
    "tags": []
   },
   "outputs": [
    {
     "data": {
      "application/javascript": [
       "parent.postMessage({\"jupyterEvent\": \"custom.exercise_interaction\", \"data\": {\"outcomeType\": 1, \"valueTowardsCompletion\": 0.14285714285714285, \"interactionType\": 1, \"questionType\": 1, \"questionId\": \"4_CenteredPrice\", \"learnToolsVersion\": \"0.3.4\", \"failureMessage\": \"\", \"exceptionClass\": \"\", \"trace\": \"\"}}, \"*\")"
      ],
      "text/plain": [
       "<IPython.core.display.Javascript object>"
      ]
     },
     "metadata": {},
     "output_type": "display_data"
    },
    {
     "data": {
      "text/markdown": [
       "<span style=\"color:#33cc33\">Correct</span>"
      ],
      "text/plain": [
       "Correct"
      ]
     },
     "metadata": {},
     "output_type": "display_data"
    }
   ],
   "source": [
    "centered_price = reviews['price']-reviews['price'].mean()\n",
    "\n",
    "# Check your answer\n",
    "q4.check()"
   ]
  },
  {
   "cell_type": "code",
   "execution_count": 10,
   "id": "86dbd9fe",
   "metadata": {
    "execution": {
     "iopub.execute_input": "2023-08-07T05:38:37.543991Z",
     "iopub.status.busy": "2023-08-07T05:38:37.542949Z",
     "iopub.status.idle": "2023-08-07T05:38:37.547759Z",
     "shell.execute_reply": "2023-08-07T05:38:37.546665Z"
    },
    "papermill": {
     "duration": 0.01943,
     "end_time": "2023-08-07T05:38:37.550410",
     "exception": false,
     "start_time": "2023-08-07T05:38:37.530980",
     "status": "completed"
    },
    "tags": []
   },
   "outputs": [],
   "source": [
    "#q4.hint()\n",
    "#q4.solution()"
   ]
  },
  {
   "cell_type": "markdown",
   "id": "c3d80993",
   "metadata": {
    "papermill": {
     "duration": 0.010618,
     "end_time": "2023-08-07T05:38:37.572309",
     "exception": false,
     "start_time": "2023-08-07T05:38:37.561691",
     "status": "completed"
    },
    "tags": []
   },
   "source": [
    "## 5.\n",
    "I'm an economical wine buyer. Which wine is the \"best bargain\"? Create a variable `bargain_wine` with the title of the wine with the highest points-to-price ratio in the dataset."
   ]
  },
  {
   "cell_type": "code",
   "execution_count": 11,
   "id": "7eb40d1e",
   "metadata": {
    "execution": {
     "iopub.execute_input": "2023-08-07T05:38:37.596098Z",
     "iopub.status.busy": "2023-08-07T05:38:37.595445Z",
     "iopub.status.idle": "2023-08-07T05:38:37.602876Z",
     "shell.execute_reply": "2023-08-07T05:38:37.601866Z"
    },
    "papermill": {
     "duration": 0.022179,
     "end_time": "2023-08-07T05:38:37.605216",
     "exception": false,
     "start_time": "2023-08-07T05:38:37.583037",
     "status": "completed"
    },
    "tags": []
   },
   "outputs": [
    {
     "data": {
      "text/plain": [
       "Index(['country', 'description', 'designation', 'points', 'price', 'province',\n",
       "       'region_1', 'region_2', 'taster_name', 'taster_twitter_handle', 'title',\n",
       "       'variety', 'winery'],\n",
       "      dtype='object')"
      ]
     },
     "execution_count": 11,
     "metadata": {},
     "output_type": "execute_result"
    }
   ],
   "source": [
    "reviews.columns"
   ]
  },
  {
   "cell_type": "code",
   "execution_count": 12,
   "id": "479451e1",
   "metadata": {
    "execution": {
     "iopub.execute_input": "2023-08-07T05:38:37.629205Z",
     "iopub.status.busy": "2023-08-07T05:38:37.628825Z",
     "iopub.status.idle": "2023-08-07T05:38:37.641683Z",
     "shell.execute_reply": "2023-08-07T05:38:37.640872Z"
    },
    "papermill": {
     "duration": 0.027343,
     "end_time": "2023-08-07T05:38:37.643598",
     "exception": false,
     "start_time": "2023-08-07T05:38:37.616255",
     "status": "completed"
    },
    "tags": []
   },
   "outputs": [
    {
     "data": {
      "application/javascript": [
       "parent.postMessage({\"jupyterEvent\": \"custom.exercise_interaction\", \"data\": {\"outcomeType\": 1, \"valueTowardsCompletion\": 0.14285714285714285, \"interactionType\": 1, \"questionType\": 2, \"questionId\": \"5_BargainWine\", \"learnToolsVersion\": \"0.3.4\", \"failureMessage\": \"\", \"exceptionClass\": \"\", \"trace\": \"\"}}, \"*\")"
      ],
      "text/plain": [
       "<IPython.core.display.Javascript object>"
      ]
     },
     "metadata": {},
     "output_type": "display_data"
    },
    {
     "data": {
      "text/markdown": [
       "<span style=\"color:#33cc33\">Correct</span>"
      ],
      "text/plain": [
       "Correct"
      ]
     },
     "metadata": {},
     "output_type": "display_data"
    }
   ],
   "source": [
    "bargain_idx = (reviews.points / reviews.price).idxmax()\n",
    "bargain_wine = reviews.loc[bargain_idx, 'title']\n",
    "\n",
    "# Check your answer\n",
    "q5.check()"
   ]
  },
  {
   "cell_type": "code",
   "execution_count": 13,
   "id": "8bec377a",
   "metadata": {
    "execution": {
     "iopub.execute_input": "2023-08-07T05:38:37.667895Z",
     "iopub.status.busy": "2023-08-07T05:38:37.667274Z",
     "iopub.status.idle": "2023-08-07T05:38:37.675713Z",
     "shell.execute_reply": "2023-08-07T05:38:37.674619Z"
    },
    "papermill": {
     "duration": 0.02344,
     "end_time": "2023-08-07T05:38:37.678171",
     "exception": false,
     "start_time": "2023-08-07T05:38:37.654731",
     "status": "completed"
    },
    "tags": []
   },
   "outputs": [
    {
     "data": {
      "application/javascript": [
       "parent.postMessage({\"jupyterEvent\": \"custom.exercise_interaction\", \"data\": {\"interactionType\": 2, \"questionType\": 2, \"questionId\": \"5_BargainWine\", \"learnToolsVersion\": \"0.3.4\", \"valueTowardsCompletion\": 0.0, \"failureMessage\": \"\", \"exceptionClass\": \"\", \"trace\": \"\", \"outcomeType\": 4}}, \"*\")"
      ],
      "text/plain": [
       "<IPython.core.display.Javascript object>"
      ]
     },
     "metadata": {},
     "output_type": "display_data"
    },
    {
     "data": {
      "text/markdown": [
       "<span style=\"color:#3366cc\">Hint:</span> The `idxmax` method may be useful here."
      ],
      "text/plain": [
       "Hint: The `idxmax` method may be useful here."
      ]
     },
     "metadata": {},
     "output_type": "display_data"
    }
   ],
   "source": [
    "q5.hint()\n",
    "#q5.solution()"
   ]
  },
  {
   "cell_type": "markdown",
   "id": "7f255719",
   "metadata": {
    "papermill": {
     "duration": 0.011111,
     "end_time": "2023-08-07T05:38:37.700835",
     "exception": false,
     "start_time": "2023-08-07T05:38:37.689724",
     "status": "completed"
    },
    "tags": []
   },
   "source": [
    "## 6.\n",
    "There are only so many words you can use when describing a bottle of wine. Is a wine more likely to be \"tropical\" or \"fruity\"? Create a Series `descriptor_counts` counting how many times each of these two words appears in the `description` column in the dataset. (For simplicity, let's ignore the capitalized versions of these words.)"
   ]
  },
  {
   "cell_type": "code",
   "execution_count": 14,
   "id": "6a21b630",
   "metadata": {
    "execution": {
     "iopub.execute_input": "2023-08-07T05:38:37.727187Z",
     "iopub.status.busy": "2023-08-07T05:38:37.726315Z",
     "iopub.status.idle": "2023-08-07T05:38:37.864336Z",
     "shell.execute_reply": "2023-08-07T05:38:37.863482Z"
    },
    "papermill": {
     "duration": 0.154432,
     "end_time": "2023-08-07T05:38:37.866946",
     "exception": false,
     "start_time": "2023-08-07T05:38:37.712514",
     "status": "completed"
    },
    "tags": []
   },
   "outputs": [
    {
     "data": {
      "text/plain": [
       "False    120881\n",
       "True       9090\n",
       "Name: description, dtype: int64"
      ]
     },
     "execution_count": 14,
     "metadata": {},
     "output_type": "execute_result"
    }
   ],
   "source": [
    "reviews['description'].str.contains('fruity').value_counts()\n",
    "\n"
   ]
  },
  {
   "cell_type": "code",
   "execution_count": 15,
   "id": "5e9a760c",
   "metadata": {
    "execution": {
     "iopub.execute_input": "2023-08-07T05:38:37.892806Z",
     "iopub.status.busy": "2023-08-07T05:38:37.892387Z",
     "iopub.status.idle": "2023-08-07T05:38:38.053727Z",
     "shell.execute_reply": "2023-08-07T05:38:38.052692Z"
    },
    "papermill": {
     "duration": 0.177204,
     "end_time": "2023-08-07T05:38:38.056092",
     "exception": false,
     "start_time": "2023-08-07T05:38:37.878888",
     "status": "completed"
    },
    "tags": []
   },
   "outputs": [
    {
     "data": {
      "application/javascript": [
       "parent.postMessage({\"jupyterEvent\": \"custom.exercise_interaction\", \"data\": {\"outcomeType\": 1, \"valueTowardsCompletion\": 0.14285714285714285, \"interactionType\": 1, \"questionType\": 1, \"questionId\": \"6_DescriptorCounts\", \"learnToolsVersion\": \"0.3.4\", \"failureMessage\": \"\", \"exceptionClass\": \"\", \"trace\": \"\"}}, \"*\")"
      ],
      "text/plain": [
       "<IPython.core.display.Javascript object>"
      ]
     },
     "metadata": {},
     "output_type": "display_data"
    },
    {
     "data": {
      "text/markdown": [
       "<span style=\"color:#33cc33\">Correct</span>"
      ],
      "text/plain": [
       "Correct"
      ]
     },
     "metadata": {},
     "output_type": "display_data"
    }
   ],
   "source": [
    "fruity = reviews['description'].map(lambda x: 'fruity' in x).sum()\n",
    "tropical = reviews['description'].map(lambda x: 'tropical' in x).sum()\n",
    "descriptor_counts = pd.Series([tropical, fruity], index=['tropical', 'fruity'])\n",
    "# Check your answer\n",
    "q6.check()"
   ]
  },
  {
   "cell_type": "code",
   "execution_count": 16,
   "id": "47462617",
   "metadata": {
    "execution": {
     "iopub.execute_input": "2023-08-07T05:38:38.081864Z",
     "iopub.status.busy": "2023-08-07T05:38:38.081229Z",
     "iopub.status.idle": "2023-08-07T05:38:38.090097Z",
     "shell.execute_reply": "2023-08-07T05:38:38.089121Z"
    },
    "papermill": {
     "duration": 0.024615,
     "end_time": "2023-08-07T05:38:38.092591",
     "exception": false,
     "start_time": "2023-08-07T05:38:38.067976",
     "status": "completed"
    },
    "tags": []
   },
   "outputs": [
    {
     "data": {
      "application/javascript": [
       "parent.postMessage({\"jupyterEvent\": \"custom.exercise_interaction\", \"data\": {\"interactionType\": 2, \"questionType\": 1, \"questionId\": \"6_DescriptorCounts\", \"learnToolsVersion\": \"0.3.4\", \"valueTowardsCompletion\": 0.0, \"failureMessage\": \"\", \"exceptionClass\": \"\", \"trace\": \"\", \"outcomeType\": 4}}, \"*\")"
      ],
      "text/plain": [
       "<IPython.core.display.Javascript object>"
      ]
     },
     "metadata": {},
     "output_type": "display_data"
    },
    {
     "data": {
      "text/markdown": [
       "<span style=\"color:#3366cc\">Hint:</span> Use a map to check each description for the string `tropical`, then count up the number of times this is `True`. Repeat this for `fruity`. Finally, create a `Series` combining the two values."
      ],
      "text/plain": [
       "Hint: Use a map to check each description for the string `tropical`, then count up the number of times this is `True`. Repeat this for `fruity`. Finally, create a `Series` combining the two values."
      ]
     },
     "metadata": {},
     "output_type": "display_data"
    }
   ],
   "source": [
    "q6.hint()\n",
    "#q6.solution()"
   ]
  },
  {
   "cell_type": "markdown",
   "id": "7d9f053b",
   "metadata": {
    "papermill": {
     "duration": 0.012076,
     "end_time": "2023-08-07T05:38:38.117292",
     "exception": false,
     "start_time": "2023-08-07T05:38:38.105216",
     "status": "completed"
    },
    "tags": []
   },
   "source": [
    "## 7.\n",
    "We'd like to host these wine reviews on our website, but a rating system ranging from 80 to 100 points is too hard to understand - we'd like to translate them into simple star ratings. A score of 95 or higher counts as 3 stars, a score of at least 85 but less than 95 is 2 stars. Any other score is 1 star.\n",
    "\n",
    "Also, the Canadian Vintners Association bought a lot of ads on the site, so any wines from Canada should automatically get 3 stars, regardless of points.\n",
    "\n",
    "Create a series `star_ratings` with the number of stars corresponding to each review in the dataset."
   ]
  },
  {
   "cell_type": "code",
   "execution_count": 17,
   "id": "7f0650a5",
   "metadata": {
    "execution": {
     "iopub.execute_input": "2023-08-07T05:38:38.143833Z",
     "iopub.status.busy": "2023-08-07T05:38:38.143420Z",
     "iopub.status.idle": "2023-08-07T05:38:43.515345Z",
     "shell.execute_reply": "2023-08-07T05:38:43.514123Z"
    },
    "papermill": {
     "duration": 5.388256,
     "end_time": "2023-08-07T05:38:43.517909",
     "exception": false,
     "start_time": "2023-08-07T05:38:38.129653",
     "status": "completed"
    },
    "tags": []
   },
   "outputs": [
    {
     "data": {
      "application/javascript": [
       "parent.postMessage({\"jupyterEvent\": \"custom.exercise_interaction\", \"data\": {\"outcomeType\": 1, \"valueTowardsCompletion\": 0.14285714285714285, \"interactionType\": 1, \"questionType\": 1, \"questionId\": \"7_StarRatings\", \"learnToolsVersion\": \"0.3.4\", \"failureMessage\": \"\", \"exceptionClass\": \"\", \"trace\": \"\"}}, \"*\")"
      ],
      "text/plain": [
       "<IPython.core.display.Javascript object>"
      ]
     },
     "metadata": {},
     "output_type": "display_data"
    },
    {
     "data": {
      "text/markdown": [
       "<span style=\"color:#33cc33\">Correct</span>"
      ],
      "text/plain": [
       "Correct"
      ]
     },
     "metadata": {},
     "output_type": "display_data"
    }
   ],
   "source": [
    "def star_rating(row):\n",
    "    return 3 if row.points >=95 or row.country == 'Canada' else (2 if row.points >= 85 else 1)\n",
    "star_ratings = reviews.apply(star_rating, axis=1)\n",
    "\n",
    "\n",
    "# Check your answer\n",
    "q7.check()"
   ]
  },
  {
   "cell_type": "code",
   "execution_count": 18,
   "id": "e42dcdb8",
   "metadata": {
    "execution": {
     "iopub.execute_input": "2023-08-07T05:38:43.545761Z",
     "iopub.status.busy": "2023-08-07T05:38:43.545287Z",
     "iopub.status.idle": "2023-08-07T05:38:43.550027Z",
     "shell.execute_reply": "2023-08-07T05:38:43.548700Z"
    },
    "papermill": {
     "duration": 0.021743,
     "end_time": "2023-08-07T05:38:43.552586",
     "exception": false,
     "start_time": "2023-08-07T05:38:43.530843",
     "status": "completed"
    },
    "tags": []
   },
   "outputs": [],
   "source": [
    "#q7.hint()\n",
    "#q7.solution()"
   ]
  },
  {
   "cell_type": "markdown",
   "id": "a753c9ef",
   "metadata": {
    "papermill": {
     "duration": 0.012394,
     "end_time": "2023-08-07T05:38:43.578092",
     "exception": false,
     "start_time": "2023-08-07T05:38:43.565698",
     "status": "completed"
    },
    "tags": []
   },
   "source": [
    "# Keep going\n",
    "Continue to **[grouping and sorting](https://www.kaggle.com/residentmario/grouping-and-sorting)**."
   ]
  },
  {
   "cell_type": "markdown",
   "id": "b5a4bba9",
   "metadata": {
    "papermill": {
     "duration": 0.012729,
     "end_time": "2023-08-07T05:38:43.603661",
     "exception": false,
     "start_time": "2023-08-07T05:38:43.590932",
     "status": "completed"
    },
    "tags": []
   },
   "source": [
    "---\n",
    "\n",
    "\n",
    "\n",
    "\n",
    "*Have questions or comments? Visit the [course discussion forum](https://www.kaggle.com/learn/pandas/discussion) to chat with other learners.*"
   ]
  }
 ],
 "metadata": {
  "kernelspec": {
   "display_name": "Python 3",
   "language": "python",
   "name": "python3"
  },
  "language_info": {
   "codemirror_mode": {
    "name": "ipython",
    "version": 3
   },
   "file_extension": ".py",
   "mimetype": "text/x-python",
   "name": "python",
   "nbconvert_exporter": "python",
   "pygments_lexer": "ipython3",
   "version": "3.10.12"
  },
  "papermill": {
   "default_parameters": {},
   "duration": 28.30439,
   "end_time": "2023-08-07T05:38:44.538127",
   "environment_variables": {},
   "exception": null,
   "input_path": "__notebook__.ipynb",
   "output_path": "__notebook__.ipynb",
   "parameters": {},
   "start_time": "2023-08-07T05:38:16.233737",
   "version": "2.4.0"
  }
 },
 "nbformat": 4,
 "nbformat_minor": 5
}
